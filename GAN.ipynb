{
  "nbformat": 4,
  "nbformat_minor": 0,
  "metadata": {
    "colab": {
      "name": "GAN.ipynb",
      "provenance": [],
      "private_outputs": true,
      "include_colab_link": true
    },
    "kernelspec": {
      "name": "python3",
      "display_name": "Python 3"
    },
    "accelerator": "GPU"
  },
  "cells": [
    {
      "cell_type": "markdown",
      "metadata": {
        "id": "view-in-github",
        "colab_type": "text"
      },
      "source": [
        "<a href=\"https://colab.research.google.com/github/yanghao02/00/blob/master/GAN.ipynb\" target=\"_parent\"><img src=\"https://colab.research.google.com/assets/colab-badge.svg\" alt=\"Open In Colab\"/></a>"
      ]
    },
    {
      "cell_type": "code",
      "metadata": {
        "id": "I6Byj4GUcTnG",
        "colab_type": "code",
        "colab": {}
      },
      "source": [
        "import keras"
      ],
      "execution_count": 0,
      "outputs": []
    },
    {
      "cell_type": "code",
      "metadata": {
        "id": "OeOZ-2TfclMp",
        "colab_type": "code",
        "colab": {}
      },
      "source": [
        "from keras.models import Model,Sequential\n",
        "from keras.layers.advanced_activations import LeakyReLU\n",
        "from keras.optimizers import Adam\n",
        "from tqdm import tqdm\n",
        "import numpy as np\n",
        "import matplotlib.pyplot as plt\n",
        "%matplotlib inline\n",
        "from google.colab import drive\n",
        "from keras.datasets import mnist\n",
        "from keras.layers import Dense, Dropout, Input"
      ],
      "execution_count": 0,
      "outputs": []
    },
    {
      "cell_type": "code",
      "metadata": {
        "id": "dJ7DFVeHcrzO",
        "colab_type": "code",
        "colab": {}
      },
      "source": [
        "# Load the dataset\n",
        "def load_data():\n",
        "  (x_train, y_train), (_, _) = mnist.load_data()\n",
        "  x_train = (x_train.astype(np.float32) - 127.5)/127.5\n",
        "  \n",
        "  # Convert shape from (60000, 28, 28) to (60000, 784)\n",
        "  x_train = x_train.reshape(60000, 784)\n",
        "  return (x_train, y_train)\n",
        "\n",
        "X_train, y_train = load_data()\n",
        "print(X_train.shape, y_train.shape)"
      ],
      "execution_count": 0,
      "outputs": []
    },
    {
      "cell_type": "code",
      "metadata": {
        "id": "XGaCldDNkm99",
        "colab_type": "code",
        "colab": {}
      },
      "source": [
        "y_train.dim"
      ],
      "execution_count": 0,
      "outputs": []
    },
    {
      "cell_type": "code",
      "metadata": {
        "id": "SttDviJKcutV",
        "colab_type": "code",
        "colab": {}
      },
      "source": [
        "def build_generator():\n",
        "  model=Sequential()\n",
        "  model.add(Dense(units=256,input_dim=100))\n",
        "  model.add(LeakyReLU(alpha=0.2))\n",
        "  model.add(Dense(units=512))\n",
        "  model.add(LeakyReLU(alpha=0.2))\n",
        "  model.add(Dense(units=1024))\n",
        "  model.add(LeakyReLU(alpha=0.2))\n",
        "  model.add(Dense(units=784,activation='tanh'))\n",
        "  model.compile(loss='binary_crossentropy',optimizer=Adam(0.0002,0.5))\n",
        "  return model\n",
        "generator=build_generator()\n",
        "generator.summary()"
      ],
      "execution_count": 0,
      "outputs": []
    },
    {
      "cell_type": "code",
      "metadata": {
        "id": "GwTEp7Tom50R",
        "colab_type": "code",
        "colab": {}
      },
      "source": [
        "def build_discriminator():\n",
        "  model=Sequential()\n",
        "\n",
        "  model.add(Dense(units=1024,input_dim=784))\n",
        "  model.add(LeakyReLU(alpha=0.2))\n",
        "  model.add(Dropout(0.3))\n",
        "  model.add(Dense(units=512))\n",
        "  model.add(LeakyReLU(alpha=0.2))\n",
        "  model.add(Dropout(0.3))\n",
        "  model.add(Dense(units=256))\n",
        "  model.add(LeakyReLU(alpha=0.2))\n",
        "  model.add(Dropout(0.3))\n",
        "  model.add(Dense(units=1,activation='sigmoid'))\n",
        "  model.compile(loss='binary_crossentropy',optimizer=Adam(0.0002,0.5))\n",
        "  return model\n",
        "discriminator=build_discriminator()\n",
        "discriminator.summary()"
      ],
      "execution_count": 0,
      "outputs": []
    },
    {
      "cell_type": "markdown",
      "metadata": {
        "id": "gfVtW5Vbskhv",
        "colab_type": "text"
      },
      "source": [
        ""
      ]
    },
    {
      "cell_type": "code",
      "metadata": {
        "id": "ei2oGeisdAab",
        "colab_type": "code",
        "colab": {}
      },
      "source": [
        "def build_GAN(discriminator,generator):\n",
        "  discriminator.trainable=False\n",
        "  GAN_input=Input(shape=(100,))\n",
        "  x=generator(GAN_input)\n",
        "  GAN_output=discriminator(x)\n",
        "  GAN=Model(inputs=GAN_input,outputs=GAN_output)\n",
        "  GAN.compile(loss='binary_crossentropy',optimizer=Adam(0.0002,0.5))\n",
        "  return GAN\n",
        "GAN=build_GAN(discriminator,generator)\n",
        "GAN.summary()"
      ],
      "execution_count": 0,
      "outputs": []
    },
    {
      "cell_type": "code",
      "metadata": {
        "id": "Jan-v_MLtdBM",
        "colab_type": "code",
        "colab": {}
      },
      "source": [
        "def draw_images(generator,epoch,examples=25,dim=(5,5),figsize=(10,10)):\n",
        "  noise=np.random.normal(loc=0,scale=1,size=[examples,100])\n",
        "  generated_images=generator.predict(noise)\n",
        "  generated_images=generated_images.reshape(25,28,28)\n",
        "  plt.figure(figsize=figsize)\n",
        "  for i in range(generated_images.shape[0]):\n",
        "    plt.subplot(dim[0],dim[1],i+1)\n",
        "    plt.imshow(generated_images[i],interpolation='nearest',cmap='Greys')\n",
        "    plt.axis('off')\n",
        "  plt.tight_layout()\n",
        "  plt.savefig('Generated_images %d.png'%epoch)\n"
      ],
      "execution_count": 0,
      "outputs": []
    },
    {
      "cell_type": "code",
      "metadata": {
        "id": "fU_SBqINu-5S",
        "colab_type": "code",
        "colab": {}
      },
      "source": [
        "def train_GAN(epochs=1,batch_size=128):\n",
        "  X_train,y_train=load_data()\n",
        "  generator=build_generator()\n",
        "  discriminator=build_discriminator()\n",
        "  GAN=build_GAN(discriminator,generator)\n",
        "\n",
        "  for i in range(1,epochs+1):\n",
        "    print(\"Epoch %d\"%i)\n",
        "    for _ in tqdm(range(batch_size)):\n",
        "      noise=np.random.normal(0,1,(batch_size,100))\n",
        "      fake_images=generator.predict(noise)\n",
        "      real_images=X_train[np.random.randint(0,X_train.shape[0],batch_size)]\n",
        "      label_fake=np.zeros(batch_size)\n",
        "      label_real=np.ones(batch_size)\n",
        "      X=np.concatenate([fake_images,real_images])\n",
        "      y=np.concatenate([label_fake,label_real])\n",
        "\n",
        "      discriminator.trainable=True\n",
        "      discriminator.train_on_batch(X,y)\n",
        "      discriminator.trainable=False\n",
        "      GAN.train_on_batch(noise,label_real)\n",
        "    if i==1 or i%10==0:\n",
        "      draw_images(generator,i)\n",
        "train_GAN(epochs=400,batch_size=128)\n"
      ],
      "execution_count": 0,
      "outputs": []
    }
  ]
}